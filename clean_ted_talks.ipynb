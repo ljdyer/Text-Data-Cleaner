{
  "nbformat": 4,
  "nbformat_minor": 0,
  "metadata": {
    "colab": {
      "name": "clean_ted_talks.ipynb",
      "provenance": [],
      "collapsed_sections": [],
      "mount_file_id": "1O2RWkrj8PGhotDPGcp4EwmGSTumpLhTC",
      "authorship_tag": "ABX9TyNWf1fLKHz6BSElqTye0qiJ",
      "include_colab_link": true
    },
    "kernelspec": {
      "name": "python3",
      "display_name": "Python 3"
    },
    "language_info": {
      "name": "python"
    }
  },
  "cells": [
    {
      "cell_type": "markdown",
      "metadata": {
        "id": "view-in-github",
        "colab_type": "text"
      },
      "source": [
        "<a href=\"https://colab.research.google.com/github/ljdyer/text-data-cleaner/blob/main/clean_ted_talks.ipynb\" target=\"_parent\"><img src=\"https://colab.research.google.com/assets/colab-badge.svg\" alt=\"Open In Colab\"/></a>"
      ]
    },
    {
      "cell_type": "markdown",
      "source": [
        "# Cleaning TED Talks text data"
      ],
      "metadata": {
        "id": "ueqXrfrJlvpI"
      }
    },
    {
      "cell_type": "markdown",
      "source": [
        "**Goal**: To remove all characters other than a-z, A-Z, 0-9, space, comma, and period, whilst staying as close as possible to the way a human would format the text using these characters in order to generate high quality trianing data for our ML project. Due to the size of the dataset, it is not possible to confirm every change one-by-one, and it is inevitable that some weirdness will be introduced, but I attempt to minimize this as much as realistically possible."
      ],
      "metadata": {
        "id": "asFKC0OLlz2t"
      }
    },
    {
      "cell_type": "markdown",
      "source": [
        "## 1. Initial set up"
      ],
      "metadata": {
        "id": "aDJrPdL7l8M3"
      }
    },
    {
      "cell_type": "markdown",
      "source": [
        "Import the helper functions in the 'text data cleaner' library that I developed.\n",
        "\n",
        "Documentation is at https://github.com/ljdyer/text-data-cleaner, and each of the functions is demonstrated below."
      ],
      "metadata": {
        "id": "rqzjH1-Xm2C1"
      }
    },
    {
      "cell_type": "code",
      "source": [
        "url = 'https://raw.githubusercontent.com/ljdyer/text-data-cleaner/main/text_data_cleaner.py'\n",
        "!wget --no-cache -backups=1 'text_data_cleaner.py' {url}"
      ],
      "metadata": {
        "colab": {
          "base_uri": "https://localhost:8080/"
        },
        "id": "hfIk3cIPXjJz",
        "outputId": "1d8a4747-f998-4643-e1e8-ede7b33233ab"
      },
      "execution_count": 1,
      "outputs": [
        {
          "output_type": "stream",
          "name": "stdout",
          "text": [
            "Continuing in background, pid 1073.\n"
          ]
        }
      ]
    },
    {
      "cell_type": "code",
      "source": [
        "import text_data_cleaner\n",
        "from text_data_cleaner import *"
      ],
      "metadata": {
        "id": "Og3bA6ECntP0"
      },
      "execution_count": 2,
      "outputs": []
    },
    {
      "cell_type": "markdown",
      "source": [
        "The following is to set Google Colab to wrap long lines in cell output for this notebook."
      ],
      "metadata": {
        "id": "_bDUspz8n6MT"
      }
    },
    {
      "cell_type": "code",
      "source": [
        "from IPython.display import HTML, display\n",
        "def set_css():\n",
        "  display(HTML('''\n",
        "  <style>\n",
        "    pre {\n",
        "        white-space: pre-wrap;\n",
        "    }\n",
        "  </style>\n",
        "  '''))\n",
        "get_ipython().events.register('pre_run_cell', set_css)"
      ],
      "metadata": {
        "id": "A_pxWsg1nzZ7"
      },
      "execution_count": 3,
      "outputs": []
    },
    {
      "cell_type": "markdown",
      "source": [
        "## 2. Load text data into pandas dataframe"
      ],
      "metadata": {
        "id": "o6uZHhfB__K2"
      }
    },
    {
      "cell_type": "markdown",
      "source": [
        "You will need to change the following to the path for your working folder and dataset file."
      ],
      "metadata": {
        "id": "Z6Dy842toWe7"
      }
    },
    {
      "cell_type": "code",
      "source": [
        "SOURCE_CSV = 'drive/MyDrive/Group Assignment/TED_Talks/ted_talks_en.csv'\n",
        "SAVE_FOLDER = 'drive/MyDrive/Group Assignment/TED_Talks'"
      ],
      "metadata": {
        "colab": {
          "base_uri": "https://localhost:8080/",
          "height": 17
        },
        "id": "tTOyfkEa_yNX",
        "outputId": "1e7d0bcd-e034-4059-bdc0-217ffd3eecfa"
      },
      "execution_count": 4,
      "outputs": [
        {
          "output_type": "display_data",
          "data": {
            "text/plain": [
              "<IPython.core.display.HTML object>"
            ],
            "text/html": [
              "\n",
              "  <style>\n",
              "    pre {\n",
              "        white-space: pre-wrap;\n",
              "    }\n",
              "  </style>\n",
              "  "
            ]
          },
          "metadata": {}
        }
      ]
    },
    {
      "cell_type": "markdown",
      "source": [
        "Load the file into a pandas dataframe"
      ],
      "metadata": {
        "id": "tR6MPXJRop0b"
      }
    },
    {
      "cell_type": "code",
      "source": [
        "import pandas as pd\n",
        "\n",
        "# Hide chained assignment warning\n",
        "pd.options.mode.chained_assignment = None   # default='warn'\n",
        "\n",
        "# Mount drive if loading from Google Drive (not necessary if working on local\n",
        "# hard disk)\n",
        "from google.colab import drive\n",
        "drive.mount('/content/drive')\n",
        "\n",
        "# Read from csv file in pandas dataframe.\n",
        "ted_talks = pd.read_csv(SOURCE_CSV)\n",
        "\n",
        "# Copy the column with the text into a new dataframe (you can keep more columns\n",
        "# if you wish, but they were not necessary for me)\n",
        "transcripts = ted_talks[['transcript']].copy()\n",
        "\n",
        "# Name column 'Text'\n",
        "# This is the default value for the helper functions. If you want to call it\n",
        "# something else, you will need to pass that name as the 'text_column_name'\n",
        "# parameter to each helper function.\n",
        "transcripts.columns = ['Text']"
      ],
      "metadata": {
        "colab": {
          "base_uri": "https://localhost:8080/",
          "height": 34
        },
        "id": "1PuKSjQpojtM",
        "outputId": "70bcb501-8753-42e9-c013-f8d9cad8bc25"
      },
      "execution_count": 5,
      "outputs": [
        {
          "output_type": "display_data",
          "data": {
            "text/plain": [
              "<IPython.core.display.HTML object>"
            ],
            "text/html": [
              "\n",
              "  <style>\n",
              "    pre {\n",
              "        white-space: pre-wrap;\n",
              "    }\n",
              "  </style>\n",
              "  "
            ]
          },
          "metadata": {}
        },
        {
          "output_type": "stream",
          "name": "stdout",
          "text": [
            "Drive already mounted at /content/drive; to attempt to forcibly remount, call drive.mount(\"/content/drive\", force_remount=True).\n"
          ]
        }
      ]
    },
    {
      "cell_type": "markdown",
      "source": [
        "Check that the dataframe contains the information you expect."
      ],
      "metadata": {
        "id": "iTT6z9h2pO-a"
      }
    },
    {
      "cell_type": "code",
      "source": [
        "transcripts.head()"
      ],
      "metadata": {
        "colab": {
          "base_uri": "https://localhost:8080/",
          "height": 206
        },
        "id": "l98gXyDWpSAR",
        "outputId": "5ef40d67-5ca3-483e-c285-4b746ade0905"
      },
      "execution_count": 6,
      "outputs": [
        {
          "output_type": "display_data",
          "data": {
            "text/plain": [
              "<IPython.core.display.HTML object>"
            ],
            "text/html": [
              "\n",
              "  <style>\n",
              "    pre {\n",
              "        white-space: pre-wrap;\n",
              "    }\n",
              "  </style>\n",
              "  "
            ]
          },
          "metadata": {}
        },
        {
          "output_type": "execute_result",
          "data": {
            "text/plain": [
              "                                                Text\n",
              "0  Thank you so much, Chris. And it's truly a gre...\n",
              "1  About 10 years ago, I took on the task to teac...\n",
              "2  (Music: \"The Sound of Silence,\" Simon & Garfun...\n",
              "3  If you're here today — and I'm very happy that...\n",
              "4  Good morning. How are you? (Audience) Good. It..."
            ],
            "text/html": [
              "\n",
              "  <div id=\"df-64debc1c-5dea-4032-b736-d5fe13e74c06\">\n",
              "    <div class=\"colab-df-container\">\n",
              "      <div>\n",
              "<style scoped>\n",
              "    .dataframe tbody tr th:only-of-type {\n",
              "        vertical-align: middle;\n",
              "    }\n",
              "\n",
              "    .dataframe tbody tr th {\n",
              "        vertical-align: top;\n",
              "    }\n",
              "\n",
              "    .dataframe thead th {\n",
              "        text-align: right;\n",
              "    }\n",
              "</style>\n",
              "<table border=\"1\" class=\"dataframe\">\n",
              "  <thead>\n",
              "    <tr style=\"text-align: right;\">\n",
              "      <th></th>\n",
              "      <th>Text</th>\n",
              "    </tr>\n",
              "  </thead>\n",
              "  <tbody>\n",
              "    <tr>\n",
              "      <th>0</th>\n",
              "      <td>Thank you so much, Chris. And it's truly a gre...</td>\n",
              "    </tr>\n",
              "    <tr>\n",
              "      <th>1</th>\n",
              "      <td>About 10 years ago, I took on the task to teac...</td>\n",
              "    </tr>\n",
              "    <tr>\n",
              "      <th>2</th>\n",
              "      <td>(Music: \"The Sound of Silence,\" Simon &amp; Garfun...</td>\n",
              "    </tr>\n",
              "    <tr>\n",
              "      <th>3</th>\n",
              "      <td>If you're here today — and I'm very happy that...</td>\n",
              "    </tr>\n",
              "    <tr>\n",
              "      <th>4</th>\n",
              "      <td>Good morning. How are you? (Audience) Good. It...</td>\n",
              "    </tr>\n",
              "  </tbody>\n",
              "</table>\n",
              "</div>\n",
              "      <button class=\"colab-df-convert\" onclick=\"convertToInteractive('df-64debc1c-5dea-4032-b736-d5fe13e74c06')\"\n",
              "              title=\"Convert this dataframe to an interactive table.\"\n",
              "              style=\"display:none;\">\n",
              "        \n",
              "  <svg xmlns=\"http://www.w3.org/2000/svg\" height=\"24px\"viewBox=\"0 0 24 24\"\n",
              "       width=\"24px\">\n",
              "    <path d=\"M0 0h24v24H0V0z\" fill=\"none\"/>\n",
              "    <path d=\"M18.56 5.44l.94 2.06.94-2.06 2.06-.94-2.06-.94-.94-2.06-.94 2.06-2.06.94zm-11 1L8.5 8.5l.94-2.06 2.06-.94-2.06-.94L8.5 2.5l-.94 2.06-2.06.94zm10 10l.94 2.06.94-2.06 2.06-.94-2.06-.94-.94-2.06-.94 2.06-2.06.94z\"/><path d=\"M17.41 7.96l-1.37-1.37c-.4-.4-.92-.59-1.43-.59-.52 0-1.04.2-1.43.59L10.3 9.45l-7.72 7.72c-.78.78-.78 2.05 0 2.83L4 21.41c.39.39.9.59 1.41.59.51 0 1.02-.2 1.41-.59l7.78-7.78 2.81-2.81c.8-.78.8-2.07 0-2.86zM5.41 20L4 18.59l7.72-7.72 1.47 1.35L5.41 20z\"/>\n",
              "  </svg>\n",
              "      </button>\n",
              "      \n",
              "  <style>\n",
              "    .colab-df-container {\n",
              "      display:flex;\n",
              "      flex-wrap:wrap;\n",
              "      gap: 12px;\n",
              "    }\n",
              "\n",
              "    .colab-df-convert {\n",
              "      background-color: #E8F0FE;\n",
              "      border: none;\n",
              "      border-radius: 50%;\n",
              "      cursor: pointer;\n",
              "      display: none;\n",
              "      fill: #1967D2;\n",
              "      height: 32px;\n",
              "      padding: 0 0 0 0;\n",
              "      width: 32px;\n",
              "    }\n",
              "\n",
              "    .colab-df-convert:hover {\n",
              "      background-color: #E2EBFA;\n",
              "      box-shadow: 0px 1px 2px rgba(60, 64, 67, 0.3), 0px 1px 3px 1px rgba(60, 64, 67, 0.15);\n",
              "      fill: #174EA6;\n",
              "    }\n",
              "\n",
              "    [theme=dark] .colab-df-convert {\n",
              "      background-color: #3B4455;\n",
              "      fill: #D2E3FC;\n",
              "    }\n",
              "\n",
              "    [theme=dark] .colab-df-convert:hover {\n",
              "      background-color: #434B5C;\n",
              "      box-shadow: 0px 1px 3px 1px rgba(0, 0, 0, 0.15);\n",
              "      filter: drop-shadow(0px 1px 2px rgba(0, 0, 0, 0.3));\n",
              "      fill: #FFFFFF;\n",
              "    }\n",
              "  </style>\n",
              "\n",
              "      <script>\n",
              "        const buttonEl =\n",
              "          document.querySelector('#df-64debc1c-5dea-4032-b736-d5fe13e74c06 button.colab-df-convert');\n",
              "        buttonEl.style.display =\n",
              "          google.colab.kernel.accessAllowed ? 'block' : 'none';\n",
              "\n",
              "        async function convertToInteractive(key) {\n",
              "          const element = document.querySelector('#df-64debc1c-5dea-4032-b736-d5fe13e74c06');\n",
              "          const dataTable =\n",
              "            await google.colab.kernel.invokeFunction('convertToInteractive',\n",
              "                                                     [key], {});\n",
              "          if (!dataTable) return;\n",
              "\n",
              "          const docLinkHtml = 'Like what you see? Visit the ' +\n",
              "            '<a target=\"_blank\" href=https://colab.research.google.com/notebooks/data_table.ipynb>data table notebook</a>'\n",
              "            + ' to learn more about interactive tables.';\n",
              "          element.innerHTML = '';\n",
              "          dataTable['output_type'] = 'display_data';\n",
              "          await google.colab.output.renderOutput(dataTable, element);\n",
              "          const docLink = document.createElement('div');\n",
              "          docLink.innerHTML = docLinkHtml;\n",
              "          element.appendChild(docLink);\n",
              "        }\n",
              "      </script>\n",
              "    </div>\n",
              "  </div>\n",
              "  "
            ]
          },
          "metadata": {},
          "execution_count": 6
        }
      ]
    },
    {
      "cell_type": "markdown",
      "source": [
        "# 3. Clean the data"
      ],
      "metadata": {
        "id": "fa_jy5wObyeV"
      }
    },
    {
      "cell_type": "markdown",
      "source": [
        "We can use the `show_doc__and_word_counts` function to check how much text is in the dataframe. We should compare the size after each replacement step with the initial size, as a dramatic drop in size would indicate that something has gone wrong."
      ],
      "metadata": {
        "id": "RhSfEXXXpnNx"
      }
    },
    {
      "cell_type": "code",
      "source": [
        "show_doc_and_word_counts(transcripts)"
      ],
      "metadata": {
        "colab": {
          "base_uri": "https://localhost:8080/",
          "height": 34
        },
        "id": "9gXaMrDhp4NE",
        "outputId": "8d200bef-b124-4c23-87ee-8d19bc190d7c"
      },
      "execution_count": 7,
      "outputs": [
        {
          "output_type": "display_data",
          "data": {
            "text/plain": [
              "<IPython.core.display.HTML object>"
            ],
            "text/html": [
              "\n",
              "  <style>\n",
              "    pre {\n",
              "        white-space: pre-wrap;\n",
              "    }\n",
              "  </style>\n",
              "  "
            ]
          },
          "metadata": {}
        },
        {
          "output_type": "stream",
          "name": "stdout",
          "text": [
            "7196367 words in 4005 documents (rows).\n"
          ]
        }
      ]
    },
    {
      "cell_type": "markdown",
      "source": [
        "We can use the `show_prohibited_chars` function to display information about 'prohibited' characters that are present in the data. The prohibited characters can be specified, but the default is set to `r'[^A-Za-z0-9 \\.,]'` which is appropriate for this project. Usually only the top ten prohibited characters are displayed, but here I specify `print_all=True` to see all of the prohibited characters."
      ],
      "metadata": {
        "id": "rL6piFwJqDpI"
      }
    },
    {
      "cell_type": "code",
      "source": [
        "show_prohibited_chars(transcripts, print_all=True)"
      ],
      "metadata": {
        "colab": {
          "base_uri": "https://localhost:8080/",
          "height": 86
        },
        "id": "V3OML0hCRYSX",
        "outputId": "8925dd66-f37b-4d33-ff59-4021d204a287"
      },
      "execution_count": 8,
      "outputs": [
        {
          "output_type": "display_data",
          "data": {
            "text/plain": [
              "<IPython.core.display.HTML object>"
            ],
            "text/html": [
              "\n",
              "  <style>\n",
              "    pre {\n",
              "        white-space: pre-wrap;\n",
              "    }\n",
              "  </style>\n",
              "  "
            ]
          },
          "metadata": {}
        },
        {
          "output_type": "stream",
          "name": "stdout",
          "text": [
            "Total of 457235 occurrences of 148 prohibited characters in dataframe.\n",
            ", ć, ğ, о, ), £, τ, Ō, ي, π, ], ة, à, ẹ, Ż, :, …, Ť, (, ¡, ه, ل, ì, =, В, ē, *, ？, Ă, ⁰, —, è, ¿, ë, Č, $, /, อ, “, š, ́, +, ě, ك, ø, ç, ', È, ū, ², [, º, ?, ê, 文, ú, â, , \", ô, ọ, د, ♪, ō, ы, , म, 说, !, ’, ö, í, ̀, ร, á, ”, \\, é, प, 贸, 会, س, Á, 吗, Ģ, े, ð, ü, –, 你, 中, ä, ⅔, ḥ, ;, ‎, Ö, À, 送, ∇, @, -, ˚, ò, 好, î, &, €, ï, œ, ©, û, #, ع, ص, ¢, ʾ, ā, ǔ, ī, ^, 葱, Ç, र, ط, •, Å, ù, ¹, Ü, æ, ्, ñ, _, ó, م, É, ǐ, ย, ã, ن, و, ı, ♫, ‘, ่, ǒ, %\n",
            "Most common (up to 10 displayed):  ' (190032), \" (57163), - (37870), ? (36933), — (33846), ) (25803), ( (25781), : (23962), ; (5858), ’ (4105)\n"
          ]
        }
      ]
    },
    {
      "cell_type": "markdown",
      "source": [
        "OK, we've got lots of work to do! This is where the fun part starts. We can use `preview_regex_replace` to check the effect that applying a regex find and replace operation would have on the data, before we actually go ahead and apply it. Bear in mind that this is only a preview, and the dataframe will not be changed until we call `regex_replace` later."
      ],
      "metadata": {
        "id": "PiWv80aVqon_"
      }
    },
    {
      "cell_type": "markdown",
      "source": [
        "Imagine for example that I was considering removing all brackets from the data. I would run the following:"
      ],
      "metadata": {
        "id": "-U7jBt2PrCqP"
      }
    },
    {
      "cell_type": "code",
      "source": [
        "preview_regex_replace(r'[\\(|\\)]', '', transcripts)"
      ],
      "metadata": {
        "colab": {
          "base_uri": "https://localhost:8080/",
          "height": 380
        },
        "id": "XPrHnhctrMxu",
        "outputId": "b6900d5b-22d9-4623-fa2b-46005cb5cfe2"
      },
      "execution_count": 9,
      "outputs": [
        {
          "output_type": "display_data",
          "data": {
            "text/plain": [
              "<IPython.core.display.HTML object>"
            ],
            "text/html": [
              "\n",
              "  <style>\n",
              "    pre {\n",
              "        white-space: pre-wrap;\n",
              "    }\n",
              "  </style>\n",
              "  "
            ]
          },
          "metadata": {}
        },
        {
          "output_type": "display_data",
          "data": {
            "text/plain": [
              "<IPython.core.display.HTML object>"
            ],
            "text/html": [
              "<table border=\"1\" class=\"dataframe\">\n",
              "  <thead>\n",
              "    <tr style=\"text-align: right;\">\n",
              "      <th>Row index</th>\n",
              "      <th>Match number</th>\n",
              "      <th>Before</th>\n",
              "      <th>After</th>\n",
              "    </tr>\n",
              "  </thead>\n",
              "  <tbody>\n",
              "    <tr>\n",
              "      <td>1853</td>\n",
              "      <td>10/20</td>\n",
              "      <td>...amned clitoris. <span style=\"color:red\">(</span>Laughter<span style=\"color:red\">)</span> What is a woman without ...</td>\n",
              "      <td>...amned clitoris. <span style=\"color:green\"></span>Laughter<span style=\"color:green\"></span> What is a woman without ...</td>\n",
              "    </tr>\n",
              "    <tr>\n",
              "      <td>1058</td>\n",
              "      <td>13/44</td>\n",
              "      <td>...d the story go together. <span style=\"color:red\">(</span>Laugther<span style=\"color:red\">)</span> If you think ab...</td>\n",
              "      <td>...d the story go together. <span style=\"color:green\"></span>Laugther<span style=\"color:green\"></span> If you think ab...</td>\n",
              "    </tr>\n",
              "    <tr>\n",
              "      <td>1665</td>\n",
              "      <td>4/8</td>\n",
              "      <td>...and not a park. <span style=\"color:red\">(</span>Applause<span style=\"color:red\">)</span> And you know what, it mi...</td>\n",
              "      <td>...and not a park. <span style=\"color:green\"></span>Applause<span style=\"color:green\"></span> And you know what, it mi...</td>\n",
              "    </tr>\n",
              "    <tr>\n",
              "      <td>1973</td>\n",
              "      <td>5/18</td>\n",
              "      <td>... governments. <span style=\"color:red\">(</span>Laughter<span style=\"color:red\">)</span> <span style=\"color:red\">(</span>Applause<span style=\"color:red\">)</span> I don&#x27;t have to...</td>\n",
              "      <td>... governments. <span style=\"color:green\"></span>Laughter<span style=\"color:green\"></span> <span style=\"color:green\"></span>Applause<span style=\"color:green\"></span> I don&#x27;t have to...</td>\n",
              "    </tr>\n",
              "    <tr>\n",
              "      <td>1489</td>\n",
              "      <td>28/42</td>\n",
              "      <td>...e different keys. <span style=\"color:red\">(</span>Tuning<span style=\"color:red\">)</span> Yeah. I&#x27;m also going to ...</td>\n",
              "      <td>...e different keys. <span style=\"color:green\"></span>Tuning<span style=\"color:green\"></span> Yeah. I&#x27;m also going to ...</td>\n",
              "    </tr>\n",
              "    <tr>\n",
              "      <td>3131</td>\n",
              "      <td>14/20</td>\n",
              "      <td>...hard to bear <span style=\"color:red\">(</span>Synth music<span style=\"color:red\">)</span> I&#x27;m so dizzy, the air is...</td>\n",
              "      <td>...hard to bear <span style=\"color:green\"></span>Synth music<span style=\"color:green\"></span> I&#x27;m so dizzy, the air is...</td>\n",
              "    </tr>\n",
              "    <tr>\n",
              "      <td>1819</td>\n",
              "      <td>2/2</td>\n",
              "      <td>... so. Thank you. <span style=\"color:red\">(</span>Applause<span style=\"color:red\">)</span></td>\n",
              "      <td>... so. Thank you. <span style=\"color:green\"></span>Applause<span style=\"color:green\"></span></td>\n",
              "    </tr>\n",
              "    <tr>\n",
              "      <td>226</td>\n",
              "      <td>28/40</td>\n",
              "      <td>...hter<span style=\"color:red\">)</span> Get some. <span style=\"color:red\">(</span>Applause<span style=\"color:red\">)</span> So, this is really where...</td>\n",
              "      <td>...hter<span style=\"color:green\"></span> Get some. <span style=\"color:green\"></span>Applause<span style=\"color:green\"></span> So, this is really where...</td>\n",
              "    </tr>\n",
              "    <tr>\n",
              "      <td>324</td>\n",
              "      <td>3/20</td>\n",
              "      <td><span style=\"color:red\">(</span>Music<span style=\"color:red\">)</span> <span style=\"color:red\">(</span>Applause<span style=\"color:red\">)</span> Thank you for b...</td>\n",
              "      <td><span style=\"color:green\"></span>Music<span style=\"color:green\"></span> <span style=\"color:green\"></span>Applause<span style=\"color:green\"></span> Thank you for b...</td>\n",
              "    </tr>\n",
              "    <tr>\n",
              "      <td>1914</td>\n",
              "      <td>18/20</td>\n",
              "      <td>...o it&#x27;s perfect. <span style=\"color:red\">(</span>Laughter<span style=\"color:red\">)</span> So now, what would happe...</td>\n",
              "      <td>...o it&#x27;s perfect. <span style=\"color:green\"></span>Laughter<span style=\"color:green\"></span> So now, what would happe...</td>\n",
              "    </tr>\n",
              "  </tbody>\n",
              "</table>"
            ]
          },
          "metadata": {}
        },
        {
          "output_type": "stream",
          "name": "stdout",
          "text": [
            "Total of 51584 matches in 3403 documents (rows).\n"
          ]
        }
      ]
    },
    {
      "cell_type": "markdown",
      "source": [
        "10 random examples from a total of 51,584 matches were shown. We can tell from this that the vast majority of the brackets are used around phrases like 'Laughter' and 'Applause' that do not actually form part of the sentence. Removing only the brackets leads to weird sentences like \"Laughter the four of us met...\", as we can see on the right-hand side of the table above. It is better to remove the contents of the brackets as well to keep the sentences coherent and enable our models to learn correctly based on grammatical structure from POS tags, etc."
      ],
      "metadata": {
        "id": "EyEFlgWerZeu"
      }
    },
    {
      "cell_type": "markdown",
      "source": [
        "I'm not quite confident enough to apply that general rule for all the data yet though, so I'll start by removing '(Applause)' and '(Laughter)' only to see what's left. I'll preview those first, adjusting my find and replace regexes as necessary if I don't get the intended result the first time."
      ],
      "metadata": {
        "id": "OiTdYTG8sMVE"
      }
    },
    {
      "cell_type": "code",
      "source": [
        "preview_regex_replace(r'\\(Laughter\\)', '', transcripts)\n",
        "preview_regex_replace(r'\\(Applause\\)', '', transcripts)"
      ],
      "metadata": {
        "colab": {
          "base_uri": "https://localhost:8080/",
          "height": 744
        },
        "id": "e_u4wVFTsm5M",
        "outputId": "4ed797b5-ded0-4eeb-8e97-8a31a327ebe2"
      },
      "execution_count": 10,
      "outputs": [
        {
          "output_type": "display_data",
          "data": {
            "text/plain": [
              "<IPython.core.display.HTML object>"
            ],
            "text/html": [
              "\n",
              "  <style>\n",
              "    pre {\n",
              "        white-space: pre-wrap;\n",
              "    }\n",
              "  </style>\n",
              "  "
            ]
          },
          "metadata": {}
        },
        {
          "output_type": "display_data",
          "data": {
            "text/plain": [
              "<IPython.core.display.HTML object>"
            ],
            "text/html": [
              "<table border=\"1\" class=\"dataframe\">\n",
              "  <thead>\n",
              "    <tr style=\"text-align: right;\">\n",
              "      <th>Row index</th>\n",
              "      <th>Match number</th>\n",
              "      <th>Before</th>\n",
              "      <th>After</th>\n",
              "    </tr>\n",
              "  </thead>\n",
              "  <tbody>\n",
              "    <tr>\n",
              "      <td>660</td>\n",
              "      <td>32/32</td>\n",
              "      <td>.... It just wouldn&#x27;t work. <span style=\"color:red\">(Laughter)</span> But it&#x27;s not only about ...</td>\n",
              "      <td>.... It just wouldn&#x27;t work. <span style=\"color:green\"></span> But it&#x27;s not only about ...</td>\n",
              "    </tr>\n",
              "    <tr>\n",
              "      <td>344</td>\n",
              "      <td>7/8</td>\n",
              "      <td>...try speed it up a little <span style=\"color:red\">(Laughter)</span> Moderator: Eva, we have ...</td>\n",
              "      <td>...try speed it up a little <span style=\"color:green\"></span> Moderator: Eva, we have ...</td>\n",
              "    </tr>\n",
              "    <tr>\n",
              "      <td>79</td>\n",
              "      <td>2/2</td>\n",
              "      <td>...s or closed auditoriums. <span style=\"color:red\">(Laughter)</span> We filter through some s...</td>\n",
              "      <td>...s or closed auditoriums. <span style=\"color:green\"></span> We filter through some s...</td>\n",
              "    </tr>\n",
              "    <tr>\n",
              "      <td>1941</td>\n",
              "      <td>6/19</td>\n",
              "      <td>...t Get All Pole-emical&quot; — <span style=\"color:red\">(Laughter)</span> — and it&#x27;s in Beekman Ha...</td>\n",
              "      <td>...t Get All Pole-emical&quot; — <span style=\"color:green\"></span> — and it&#x27;s in Beekman Ha...</td>\n",
              "    </tr>\n",
              "    <tr>\n",
              "      <td>535</td>\n",
              "      <td>1/2</td>\n",
              "      <td>... anything that he wrote. <span style=\"color:red\">(Laughter)</span> This is how he wrote mos...</td>\n",
              "      <td>... anything that he wrote. <span style=\"color:green\"></span> This is how he wrote mos...</td>\n",
              "    </tr>\n",
              "    <tr>\n",
              "      <td>2607</td>\n",
              "      <td>3/4</td>\n",
              "      <td>...useguest finally leaves. <span style=\"color:red\">(Laughter)</span> Now, you or I might feel...</td>\n",
              "      <td>...useguest finally leaves. <span style=\"color:green\"></span> Now, you or I might feel...</td>\n",
              "    </tr>\n",
              "    <tr>\n",
              "      <td>433</td>\n",
              "      <td>5/6</td>\n",
              "      <td>...hat Enron Stadium thing. <span style=\"color:red\">(Laughter)</span> Fine arts and education ...</td>\n",
              "      <td>...hat Enron Stadium thing. <span style=\"color:green\"></span> Fine arts and education ...</td>\n",
              "    </tr>\n",
              "    <tr>\n",
              "      <td>169</td>\n",
              "      <td>8/10</td>\n",
              "      <td>...ng, but I also practice. <span style=\"color:red\">(Laughter)</span> 4 am in the morning. (La...</td>\n",
              "      <td>...ng, but I also practice. <span style=\"color:green\"></span> 4 am in the morning. (La...</td>\n",
              "    </tr>\n",
              "    <tr>\n",
              "      <td>1247</td>\n",
              "      <td>2/3</td>\n",
              "      <td>...well — that&#x27;s the story. <span style=\"color:red\">(Laughter)</span> The next painting I&#x27;m go...</td>\n",
              "      <td>...well — that&#x27;s the story. <span style=\"color:green\"></span> The next painting I&#x27;m go...</td>\n",
              "    </tr>\n",
              "    <tr>\n",
              "      <td>892</td>\n",
              "      <td>7/9</td>\n",
              "      <td>...2,000 bars of chocolate. <span style=\"color:red\">(Laughter)</span> Wait — The same study fo...</td>\n",
              "      <td>...2,000 bars of chocolate. <span style=\"color:green\"></span> Wait — The same study fo...</td>\n",
              "    </tr>\n",
              "  </tbody>\n",
              "</table>"
            ]
          },
          "metadata": {}
        },
        {
          "output_type": "stream",
          "name": "stdout",
          "text": [
            "Total of 13949 matches in 2500 documents (rows).\n"
          ]
        },
        {
          "output_type": "display_data",
          "data": {
            "text/plain": [
              "<IPython.core.display.HTML object>"
            ],
            "text/html": [
              "<table border=\"1\" class=\"dataframe\">\n",
              "  <thead>\n",
              "    <tr style=\"text-align: right;\">\n",
              "      <th>Row index</th>\n",
              "      <th>Match number</th>\n",
              "      <th>Before</th>\n",
              "      <th>After</th>\n",
              "    </tr>\n",
              "  </thead>\n",
              "  <tbody>\n",
              "    <tr>\n",
              "      <td>2023</td>\n",
              "      <td>2/3</td>\n",
              "      <td>...h Wachter, come onstage. <span style=\"color:red\">(Applause)</span> First, tell me just a de...</td>\n",
              "      <td>...h Wachter, come onstage. <span style=\"color:green\"></span> First, tell me just a de...</td>\n",
              "    </tr>\n",
              "    <tr>\n",
              "      <td>2741</td>\n",
              "      <td>1/2</td>\n",
              "      <td>...ation I made. (Laughter) <span style=\"color:red\">(Applause)</span> I assure you, people hav...</td>\n",
              "      <td>...ation I made. (Laughter) <span style=\"color:green\"></span> I assure you, people hav...</td>\n",
              "    </tr>\n",
              "    <tr>\n",
              "      <td>2062</td>\n",
              "      <td>8/9</td>\n",
              "      <td>...MAN, NO CRY.&quot; (Laughter) <span style=\"color:red\">(Applause)</span> She said, &quot;MY BANKER WIL...</td>\n",
              "      <td>...MAN, NO CRY.&quot; (Laughter) <span style=\"color:green\"></span> She said, &quot;MY BANKER WIL...</td>\n",
              "    </tr>\n",
              "    <tr>\n",
              "      <td>2757</td>\n",
              "      <td>3/5</td>\n",
              "      <td>... bipartisan — (Laughter) <span style=\"color:red\">(Applause)</span> And invited me to give c...</td>\n",
              "      <td>... bipartisan — (Laughter) <span style=\"color:green\"></span> And invited me to give c...</td>\n",
              "    </tr>\n",
              "    <tr>\n",
              "      <td>2780</td>\n",
              "      <td>3/9</td>\n",
              "      <td>...Drone buzzes) (Laughter) <span style=\"color:red\">(Applause)</span> To a machine that helps ...</td>\n",
              "      <td>...Drone buzzes) (Laughter) <span style=\"color:green\"></span> To a machine that helps ...</td>\n",
              "    </tr>\n",
              "    <tr>\n",
              "      <td>648</td>\n",
              "      <td>7/7</td>\n",
              "      <td>...l incentives. Thank you. <span style=\"color:red\">(Applause)</span></td>\n",
              "      <td>...l incentives. Thank you. <span style=\"color:green\"></span></td>\n",
              "    </tr>\n",
              "    <tr>\n",
              "      <td>1228</td>\n",
              "      <td>1/1</td>\n",
              "      <td>...nk you so much. Shukran! <span style=\"color:red\">(Applause)</span></td>\n",
              "      <td>...nk you so much. Shukran! <span style=\"color:green\"></span></td>\n",
              "    </tr>\n",
              "    <tr>\n",
              "      <td>263</td>\n",
              "      <td>1/2</td>\n",
              "      <td>...car, is origami. (Video) <span style=\"color:red\">(Applause)</span> Just to show you, this r...</td>\n",
              "      <td>...car, is origami. (Video) <span style=\"color:green\"></span> Just to show you, this r...</td>\n",
              "    </tr>\n",
              "    <tr>\n",
              "      <td>973</td>\n",
              "      <td>2/3</td>\n",
              "      <td>...n this slide. (Laughter) <span style=\"color:red\">(Applause)</span> JM: Now there are many o...</td>\n",
              "      <td>...n this slide. (Laughter) <span style=\"color:green\"></span> JM: Now there are many o...</td>\n",
              "    </tr>\n",
              "    <tr>\n",
              "      <td>3498</td>\n",
              "      <td>1/1</td>\n",
              "      <td>...ry and world. Thank you. <span style=\"color:red\">(Applause)</span></td>\n",
              "      <td>...ry and world. Thank you. <span style=\"color:green\"></span></td>\n",
              "    </tr>\n",
              "  </tbody>\n",
              "</table>"
            ]
          },
          "metadata": {}
        },
        {
          "output_type": "stream",
          "name": "stdout",
          "text": [
            "Total of 7534 matches in 3242 documents (rows).\n"
          ]
        }
      ]
    },
    {
      "cell_type": "markdown",
      "source": [
        "I am satisfied with the results here, so I'll go ahead and use the `regex_replace` function. This takes a list of tuples of (find, replace) regex pairs as its first parameter."
      ],
      "metadata": {
        "id": "wS86OgogtjsF"
      }
    },
    {
      "cell_type": "code",
      "source": [
        "transcripts = regex_replace([(r'\\(Laughter\\)', ''), (r'\\(Applause\\)', '')], transcripts)"
      ],
      "metadata": {
        "colab": {
          "base_uri": "https://localhost:8080/",
          "height": 52
        },
        "id": "WZBXCAAdt1lS",
        "outputId": "e6bd1982-a9ce-4e19-880e-b3a922bf188b"
      },
      "execution_count": 11,
      "outputs": [
        {
          "output_type": "display_data",
          "data": {
            "text/plain": [
              "<IPython.core.display.HTML object>"
            ],
            "text/html": [
              "\n",
              "  <style>\n",
              "    pre {\n",
              "        white-space: pre-wrap;\n",
              "    }\n",
              "  </style>\n",
              "  "
            ]
          },
          "metadata": {}
        },
        {
          "output_type": "stream",
          "name": "stdout",
          "text": [
            "Done.\n",
            "7174922 words in 4005 documents (rows).\n"
          ]
        }
      ]
    },
    {
      "cell_type": "markdown",
      "source": [
        "Let's see what bracketed expressions remain."
      ],
      "metadata": {
        "id": "YPZVuuRJuLDC"
      }
    },
    {
      "cell_type": "code",
      "source": [
        "preview_regex_replace(r'[\\(|\\)]', '', transcripts)"
      ],
      "metadata": {
        "colab": {
          "base_uri": "https://localhost:8080/",
          "height": 380
        },
        "id": "AHY6ag_HuV2J",
        "outputId": "00834184-a690-42d3-faa6-0c01e37aafc9"
      },
      "execution_count": 12,
      "outputs": [
        {
          "output_type": "display_data",
          "data": {
            "text/plain": [
              "<IPython.core.display.HTML object>"
            ],
            "text/html": [
              "\n",
              "  <style>\n",
              "    pre {\n",
              "        white-space: pre-wrap;\n",
              "    }\n",
              "  </style>\n",
              "  "
            ]
          },
          "metadata": {}
        },
        {
          "output_type": "display_data",
          "data": {
            "text/plain": [
              "<IPython.core.display.HTML object>"
            ],
            "text/html": [
              "<table border=\"1\" class=\"dataframe\">\n",
              "  <thead>\n",
              "    <tr style=\"text-align: right;\">\n",
              "      <th>Row index</th>\n",
              "      <th>Match number</th>\n",
              "      <th>Before</th>\n",
              "      <th>After</th>\n",
              "    </tr>\n",
              "  </thead>\n",
              "  <tbody>\n",
              "    <tr>\n",
              "      <td>3486</td>\n",
              "      <td>204/462</td>\n",
              "      <td>...biscuit, biscuit, biscuit<span style=\"color:red\">)</span> has been to use the crea...</td>\n",
              "      <td>...biscuit, biscuit, biscuit<span style=\"color:green\"></span> has been to use the crea...</td>\n",
              "    </tr>\n",
              "    <tr>\n",
              "      <td>3486</td>\n",
              "      <td>430/462</td>\n",
              "      <td>... unlock new ways <span style=\"color:red\">(</span>biscuit<span style=\"color:red\">)</span> of seeing and understand...</td>\n",
              "      <td>... unlock new ways <span style=\"color:green\"></span>biscuit<span style=\"color:green\"></span> of seeing and understand...</td>\n",
              "    </tr>\n",
              "    <tr>\n",
              "      <td>1064</td>\n",
              "      <td>6/12</td>\n",
              "      <td>..., dying fall ... <span style=\"color:red\">(</span>Singing<span style=\"color:red\">)</span> Da da dee, da da da da, ...</td>\n",
              "      <td>..., dying fall ... <span style=\"color:green\"></span>Singing<span style=\"color:green\"></span> Da da dee, da da da da, ...</td>\n",
              "    </tr>\n",
              "    <tr>\n",
              "      <td>777</td>\n",
              "      <td>1/4</td>\n",
              "      <td>...ight in the face: 58 Gs. <span style=\"color:red\">(</span>Music<span style=\"color:red\">)</span> In case you missed...</td>\n",
              "      <td>...ight in the face: 58 Gs. <span style=\"color:green\"></span>Music<span style=\"color:green\"></span> In case you missed...</td>\n",
              "    </tr>\n",
              "    <tr>\n",
              "      <td>3123</td>\n",
              "      <td>20/32</td>\n",
              "      <td>...ves. <span style=\"color:red\">(</span>Applause and cheers<span style=\"color:red\">)</span> Or — Or Lauren Underwood...</td>\n",
              "      <td>...ves. <span style=\"color:green\"></span>Applause and cheers<span style=\"color:green\"></span> Or — Or Lauren Underwood...</td>\n",
              "    </tr>\n",
              "    <tr>\n",
              "      <td>3046</td>\n",
              "      <td>9/24</td>\n",
              "      <td>...ello, you think of this. <span style=\"color:red\">(</span>Plays Bach Cello Suite No...</td>\n",
              "      <td>...ello, you think of this. <span style=\"color:green\"></span>Plays Bach Cello Suite No...</td>\n",
              "    </tr>\n",
              "    <tr>\n",
              "      <td>3486</td>\n",
              "      <td>264/462</td>\n",
              "      <td>...hours. <span style=\"color:red\">(</span>hedgehog, biscuit<span style=\"color:red\">)</span> They can happen anywhere...</td>\n",
              "      <td>...hours. <span style=\"color:green\"></span>hedgehog, biscuit<span style=\"color:green\"></span> They can happen anywhere...</td>\n",
              "    </tr>\n",
              "    <tr>\n",
              "      <td>1527</td>\n",
              "      <td>1/8</td>\n",
              "      <td>...That&#x27;s a different show. <span style=\"color:red\">(</span>Squeaking<span style=\"color:red\">)</span> That&#x27;s rather ...</td>\n",
              "      <td>...That&#x27;s a different show. <span style=\"color:green\"></span>Squeaking<span style=\"color:green\"></span> That&#x27;s rather ...</td>\n",
              "    </tr>\n",
              "    <tr>\n",
              "      <td>2563</td>\n",
              "      <td>4/4</td>\n",
              "      <td>...ome to the tribe. <span style=\"color:red\">(</span>Cheers<span style=\"color:red\">)</span></td>\n",
              "      <td>...ome to the tribe. <span style=\"color:green\"></span>Cheers<span style=\"color:green\"></span></td>\n",
              "    </tr>\n",
              "    <tr>\n",
              "      <td>1115</td>\n",
              "      <td>8/16</td>\n",
              "      <td>...what you get. <span style=\"color:red\">(</span>Voice Over<span style=\"color:red\">)</span> Woody: What do you think...</td>\n",
              "      <td>...what you get. <span style=\"color:green\"></span>Voice Over<span style=\"color:green\"></span> Woody: What do you think...</td>\n",
              "    </tr>\n",
              "  </tbody>\n",
              "</table>"
            ]
          },
          "metadata": {}
        },
        {
          "output_type": "stream",
          "name": "stdout",
          "text": [
            "Total of 8618 matches in 1057 documents (rows).\n"
          ]
        }
      ]
    },
    {
      "cell_type": "markdown",
      "source": [
        "We might decide to just remove them all at this stage. I went a little more granular and found some cases where it was better to remove the outer brackets but keep the text inside.\n",
        "\n",
        "From here on it is just a process of repeated trial and error and making a judgement call at each stage as to whether to go ahead with the replacement. It is not possible to avoid some weirdness, so if around 9 out of the 10 results displayed leaves more or less what we would hope for in our data, it's usually OK to go ahead and make the change.\n",
        "\n",
        "To keep the notebook from becoming very long, I stored my 'confirmed regex pairs' in a variable and called `replace_regex` from the same cell each time before previewing the next replacement from the cell below. I ended up with the following.\n",
        "\n",
        "You may be able to reuse some of these, but bear in mind that the appropriate replacements will be different for each dataset so try to preview each replacement before applying it if possible."
      ],
      "metadata": {
        "id": "or8L1BVXum1Z"
      }
    },
    {
      "cell_type": "code",
      "source": [
        "confirmed_regex_pairs = [\n",
        "    ('[’|‘|ʾ]', \"'\"),\n",
        "    ('[“|”]', '\"'),\n",
        "    ('…', \"...\"),\n",
        "    (r\"\\?\", r\".\"),\n",
        "    (r\"!\", r\".\"),\n",
        "    (r'\\((\\w)\\)', r\"\\1\"),                 # Brackets around a single character\n",
        "    (r'(?<![,:]) \\([^\\)]+\\)(,)', r'\\1'),  # Brackets before a comma\n",
        "    (r'\\([^\\)]+\\)', r''),                 # Other bracketed expressions\n",
        "    (r'\\[([a-z]\\S+)\\]', r'\\1'),           # Lowercase word in square brackets\n",
        "    (r'\\[([a-z]\\S+ [a-z]\\S+)\\]', r'\\1'),  # Two lowercase words in square brackets\n",
        "    (r'\\[[^\\]]*\\]', ''),                  # Everything else in square brackets\n",
        "    (r'[A-Z]+:', r''),                    # Speaker initials\n",
        "    (r'(([A-Z][a-z]+ )+([A-Z][a-z]+)+:)', ''),   # Speaker names\n",
        "    (r'Video:|Narrator:|All:|Man:|Woman:', ''),  # Speaker indicators\n",
        "    (r'Voice [0-9]:', ''),         \n",
        "    (r'Woman [0-9]:', ''),\n",
        "    (r'Man [0-9]:', ''),\n",
        "    (r'D(octor )?[0-9]:', ''),\n",
        "    (r'SC [0-9]*:', ''),\n",
        "    (r'([0-9]+):([0-9]+)', r'\\1 \\2'),     # Times\n",
        "    (r'([a-z]): ([a-z])', r'\\1, \\2'),     # Colon between two lowercase characters\n",
        "    (r'([a-z]): ([A-Z])', r'\\1. \\2'),     # Colon between uppercase and lowercase characters\n",
        "    (r':', r','),                         # Remaining colons\n",
        "    (r\"'\", r''),                          # Apostrophes\n",
        "    (r'\"', r''),                          # Quotation marks\n",
        "    (r' *— *', r', '),                    # Em dashes\n",
        "    (r'50-50', r'50 50'),\n",
        "    (r'24-7', r'24 7'),\n",
        "    (r' ([0-9]+)-([0-9]+) ', r' \\1 to \\2 '),  # Number ranges\n",
        "    (r' (re|un|pre)-(\\w)', r' \\1\\2'),     # Prefix with hyphen\n",
        "    (r'([^,]) - ', r'\\1, '),              # Hyphen with spaces around\n",
        "    (r', - ', r', '),                     # Hyphen after comma + space\n",
        "    (r'-', r' '),                         # Remaining hyphens\n",
        "    (r'%', r' percent'),                  # Percent\n",
        "    (r'\\+', r' plus '),                   # Plus\n",
        "    (r'([0-9]) *\\^ *([0-9])', r'\\1 to the power of \\2'),   # 'To the power of'\n",
        "    (r'([0-9]) *x *([0-9])', r'\\1 times \\2'),    # Times\n",
        "    (r'=', r' equals '),                  # Equals\n",
        "    (r' @(\\w)', r' \\1'),                  # @ in Twitter handles\n",
        "    (r'(\\w)@(\\w)', r'\\1 at \\2'),          # @ in email addresses\n",
        "    (r'(\\w)\\.com', r'\\1 dot com'),        # dot com\n",
        "    (r' #(\\w)', r' \\1'),                  # hashtags/numbers\n",
        "    (r'; ([A-Z])', r'. \\1'),              # Semicolon before capital letters\n",
        "    (r';', r','),                          # All other semicolons\n",
        "    (r'\\$', r'USD '),                     # Dollars\n",
        "    (r'&', r' and '),                     # Ampersands\n",
        "    (r'/', r' '),\n",
        "    (r'___+', r'blank'),                   # ___ to indicate 'blank'\n",
        "]\n",
        "\n",
        "transcripts = regex_replace(confirmed_regex_pairs, transcripts)"
      ],
      "metadata": {
        "colab": {
          "base_uri": "https://localhost:8080/",
          "height": 52
        },
        "id": "IUHq5OCyc-XO",
        "outputId": "2200b4a6-0e33-4d4c-b2fd-64ee382c982b"
      },
      "execution_count": 13,
      "outputs": [
        {
          "output_type": "display_data",
          "data": {
            "text/plain": [
              "<IPython.core.display.HTML object>"
            ],
            "text/html": [
              "\n",
              "  <style>\n",
              "    pre {\n",
              "        white-space: pre-wrap;\n",
              "    }\n",
              "  </style>\n",
              "  "
            ]
          },
          "metadata": {}
        },
        {
          "output_type": "stream",
          "name": "stdout",
          "text": [
            "Done.\n",
            "7153757 words in 3997 documents (rows).\n"
          ]
        }
      ]
    },
    {
      "cell_type": "markdown",
      "source": [
        "I can confirm from the above that the decrease in the size of the data is within the limits of what I would expect."
      ],
      "metadata": {
        "id": "a5JJcl1Ev-9u"
      }
    },
    {
      "cell_type": "markdown",
      "source": [
        "There are still quite a lot of prohibited characters left in the data."
      ],
      "metadata": {
        "id": "Yx4y4v0PwKFu"
      }
    },
    {
      "cell_type": "code",
      "source": [
        "show_prohibited_chars(transcripts)"
      ],
      "metadata": {
        "colab": {
          "base_uri": "https://localhost:8080/",
          "height": 52
        },
        "id": "5GypjlZ1v2AX",
        "outputId": "c90b5fd3-5ca5-4229-b66e-de7cca4b78a7"
      },
      "execution_count": 14,
      "outputs": [
        {
          "output_type": "display_data",
          "data": {
            "text/plain": [
              "<IPython.core.display.HTML object>"
            ],
            "text/html": [
              "\n",
              "  <style>\n",
              "    pre {\n",
              "        white-space: pre-wrap;\n",
              "    }\n",
              "  </style>\n",
              "  "
            ]
          },
          "metadata": {}
        },
        {
          "output_type": "stream",
          "name": "stdout",
          "text": [
            "Total of 6417 occurrences of 124 prohibited characters in dataframe.\n",
            "Most common (up to 10 displayed):  ♫ (3880), ♪ (690), é (504), – (377), í (119), á (114), ö (59), ó (53), ã (40), ç (38)\n"
          ]
        }
      ]
    },
    {
      "cell_type": "markdown",
      "source": [
        "The `normalize_unicode` function replaces accented characters with their ASCII equivalents (e.g. 'e' for 'é') and removes any non-ASCII characters that do not have ASCII equivalents (like '送')."
      ],
      "metadata": {
        "id": "a3-Y6oQBwfDO"
      }
    },
    {
      "cell_type": "code",
      "source": [
        "transcripts = normalize_unicode(transcripts)\n",
        "show_prohibited_chars(transcripts)"
      ],
      "metadata": {
        "colab": {
          "base_uri": "https://localhost:8080/",
          "height": 52
        },
        "id": "mYThzEMrYOVD",
        "outputId": "6a81557a-b578-48cc-9f85-bb10de9a36d6"
      },
      "execution_count": 15,
      "outputs": [
        {
          "output_type": "display_data",
          "data": {
            "text/plain": [
              "<IPython.core.display.HTML object>"
            ],
            "text/html": [
              "\n",
              "  <style>\n",
              "    pre {\n",
              "        white-space: pre-wrap;\n",
              "    }\n",
              "  </style>\n",
              "  "
            ]
          },
          "metadata": {}
        },
        {
          "output_type": "stream",
          "name": "stdout",
          "text": [
            "Total of 39 occurrences of 9 prohibited characters in dataframe.\n",
            "Most common (up to 10 displayed):  ) (15), # (7), * (4), _ (4), ^ (3), \\ (2), @ (2), ( (1), ? (1)\n"
          ]
        }
      ]
    },
    {
      "cell_type": "markdown",
      "source": [
        "We've removed a lot of prohibited characters! That's good enough so we'll just replace the remaining ones with spaces."
      ],
      "metadata": {
        "id": "WdE_w_e_xRp1"
      }
    },
    {
      "cell_type": "code",
      "source": [
        "transcripts = regex_replace([(r'[^A-Za-z0-9 \\.,]', '')], transcripts)\n",
        "show_prohibited_chars(transcripts)"
      ],
      "metadata": {
        "colab": {
          "base_uri": "https://localhost:8080/",
          "height": 86
        },
        "id": "0qd_7zhTxgLs",
        "outputId": "9d793f1c-d98e-4d67-91b4-72b57734f9e2"
      },
      "execution_count": 16,
      "outputs": [
        {
          "output_type": "display_data",
          "data": {
            "text/plain": [
              "<IPython.core.display.HTML object>"
            ],
            "text/html": [
              "\n",
              "  <style>\n",
              "    pre {\n",
              "        white-space: pre-wrap;\n",
              "    }\n",
              "  </style>\n",
              "  "
            ]
          },
          "metadata": {}
        },
        {
          "output_type": "stream",
          "name": "stdout",
          "text": [
            "Done.\n",
            "7149001 words in 3997 documents (rows).\n",
            "Total of 0 occurrences of 0 prohibited characters in dataframe.\n",
            "Most common (up to 10 displayed):  \n"
          ]
        }
      ]
    },
    {
      "cell_type": "markdown",
      "source": [
        "## 3. Save the cleaned data"
      ],
      "metadata": {
        "id": "KNVnTW--yvmr"
      }
    },
    {
      "cell_type": "markdown",
      "source": [
        "This is a good place to take a look at the data and check it is how we expect."
      ],
      "metadata": {
        "id": "SUTCInyryCzr"
      }
    },
    {
      "cell_type": "code",
      "source": [
        "transcripts.head()"
      ],
      "metadata": {
        "colab": {
          "base_uri": "https://localhost:8080/",
          "height": 206
        },
        "id": "dNO3exXP3aai",
        "outputId": "83bc18b2-8881-477f-9ab4-d5e845b62b8c"
      },
      "execution_count": 17,
      "outputs": [
        {
          "output_type": "display_data",
          "data": {
            "text/plain": [
              "<IPython.core.display.HTML object>"
            ],
            "text/html": [
              "\n",
              "  <style>\n",
              "    pre {\n",
              "        white-space: pre-wrap;\n",
              "    }\n",
              "  </style>\n",
              "  "
            ]
          },
          "metadata": {}
        },
        {
          "output_type": "execute_result",
          "data": {
            "text/plain": [
              "                                                Text\n",
              "0  Thank you so much, Chris. And its truly a grea...\n",
              "1  About 10 years ago, I took on the task to teac...\n",
              "2   Hello voice mail, my old friend. Ive called f...\n",
              "3  If youre here today, and Im very happy that yo...\n",
              "4  Good morning. How are you. Good. Its been grea..."
            ],
            "text/html": [
              "\n",
              "  <div id=\"df-c378e5bc-1cf9-4ae1-8fb0-a1b4127f4785\">\n",
              "    <div class=\"colab-df-container\">\n",
              "      <div>\n",
              "<style scoped>\n",
              "    .dataframe tbody tr th:only-of-type {\n",
              "        vertical-align: middle;\n",
              "    }\n",
              "\n",
              "    .dataframe tbody tr th {\n",
              "        vertical-align: top;\n",
              "    }\n",
              "\n",
              "    .dataframe thead th {\n",
              "        text-align: right;\n",
              "    }\n",
              "</style>\n",
              "<table border=\"1\" class=\"dataframe\">\n",
              "  <thead>\n",
              "    <tr style=\"text-align: right;\">\n",
              "      <th></th>\n",
              "      <th>Text</th>\n",
              "    </tr>\n",
              "  </thead>\n",
              "  <tbody>\n",
              "    <tr>\n",
              "      <th>0</th>\n",
              "      <td>Thank you so much, Chris. And its truly a grea...</td>\n",
              "    </tr>\n",
              "    <tr>\n",
              "      <th>1</th>\n",
              "      <td>About 10 years ago, I took on the task to teac...</td>\n",
              "    </tr>\n",
              "    <tr>\n",
              "      <th>2</th>\n",
              "      <td>Hello voice mail, my old friend. Ive called f...</td>\n",
              "    </tr>\n",
              "    <tr>\n",
              "      <th>3</th>\n",
              "      <td>If youre here today, and Im very happy that yo...</td>\n",
              "    </tr>\n",
              "    <tr>\n",
              "      <th>4</th>\n",
              "      <td>Good morning. How are you. Good. Its been grea...</td>\n",
              "    </tr>\n",
              "  </tbody>\n",
              "</table>\n",
              "</div>\n",
              "      <button class=\"colab-df-convert\" onclick=\"convertToInteractive('df-c378e5bc-1cf9-4ae1-8fb0-a1b4127f4785')\"\n",
              "              title=\"Convert this dataframe to an interactive table.\"\n",
              "              style=\"display:none;\">\n",
              "        \n",
              "  <svg xmlns=\"http://www.w3.org/2000/svg\" height=\"24px\"viewBox=\"0 0 24 24\"\n",
              "       width=\"24px\">\n",
              "    <path d=\"M0 0h24v24H0V0z\" fill=\"none\"/>\n",
              "    <path d=\"M18.56 5.44l.94 2.06.94-2.06 2.06-.94-2.06-.94-.94-2.06-.94 2.06-2.06.94zm-11 1L8.5 8.5l.94-2.06 2.06-.94-2.06-.94L8.5 2.5l-.94 2.06-2.06.94zm10 10l.94 2.06.94-2.06 2.06-.94-2.06-.94-.94-2.06-.94 2.06-2.06.94z\"/><path d=\"M17.41 7.96l-1.37-1.37c-.4-.4-.92-.59-1.43-.59-.52 0-1.04.2-1.43.59L10.3 9.45l-7.72 7.72c-.78.78-.78 2.05 0 2.83L4 21.41c.39.39.9.59 1.41.59.51 0 1.02-.2 1.41-.59l7.78-7.78 2.81-2.81c.8-.78.8-2.07 0-2.86zM5.41 20L4 18.59l7.72-7.72 1.47 1.35L5.41 20z\"/>\n",
              "  </svg>\n",
              "      </button>\n",
              "      \n",
              "  <style>\n",
              "    .colab-df-container {\n",
              "      display:flex;\n",
              "      flex-wrap:wrap;\n",
              "      gap: 12px;\n",
              "    }\n",
              "\n",
              "    .colab-df-convert {\n",
              "      background-color: #E8F0FE;\n",
              "      border: none;\n",
              "      border-radius: 50%;\n",
              "      cursor: pointer;\n",
              "      display: none;\n",
              "      fill: #1967D2;\n",
              "      height: 32px;\n",
              "      padding: 0 0 0 0;\n",
              "      width: 32px;\n",
              "    }\n",
              "\n",
              "    .colab-df-convert:hover {\n",
              "      background-color: #E2EBFA;\n",
              "      box-shadow: 0px 1px 2px rgba(60, 64, 67, 0.3), 0px 1px 3px 1px rgba(60, 64, 67, 0.15);\n",
              "      fill: #174EA6;\n",
              "    }\n",
              "\n",
              "    [theme=dark] .colab-df-convert {\n",
              "      background-color: #3B4455;\n",
              "      fill: #D2E3FC;\n",
              "    }\n",
              "\n",
              "    [theme=dark] .colab-df-convert:hover {\n",
              "      background-color: #434B5C;\n",
              "      box-shadow: 0px 1px 3px 1px rgba(0, 0, 0, 0.15);\n",
              "      filter: drop-shadow(0px 1px 2px rgba(0, 0, 0, 0.3));\n",
              "      fill: #FFFFFF;\n",
              "    }\n",
              "  </style>\n",
              "\n",
              "      <script>\n",
              "        const buttonEl =\n",
              "          document.querySelector('#df-c378e5bc-1cf9-4ae1-8fb0-a1b4127f4785 button.colab-df-convert');\n",
              "        buttonEl.style.display =\n",
              "          google.colab.kernel.accessAllowed ? 'block' : 'none';\n",
              "\n",
              "        async function convertToInteractive(key) {\n",
              "          const element = document.querySelector('#df-c378e5bc-1cf9-4ae1-8fb0-a1b4127f4785');\n",
              "          const dataTable =\n",
              "            await google.colab.kernel.invokeFunction('convertToInteractive',\n",
              "                                                     [key], {});\n",
              "          if (!dataTable) return;\n",
              "\n",
              "          const docLinkHtml = 'Like what you see? Visit the ' +\n",
              "            '<a target=\"_blank\" href=https://colab.research.google.com/notebooks/data_table.ipynb>data table notebook</a>'\n",
              "            + ' to learn more about interactive tables.';\n",
              "          element.innerHTML = '';\n",
              "          dataTable['output_type'] = 'display_data';\n",
              "          await google.colab.output.renderOutput(dataTable, element);\n",
              "          const docLink = document.createElement('div');\n",
              "          docLink.innerHTML = docLinkHtml;\n",
              "          element.appendChild(docLink);\n",
              "        }\n",
              "      </script>\n",
              "    </div>\n",
              "  </div>\n",
              "  "
            ]
          },
          "metadata": {},
          "execution_count": 17
        }
      ]
    },
    {
      "cell_type": "markdown",
      "source": [
        "Looking good! I'll now create the columns for the different types of data we may need need to test different stages of our models. For the overall pipeline, `all_cleaned` will be the input (X) and `no_spaces` will be the output (y)."
      ],
      "metadata": {
        "id": "zsdWmo3gyLDD"
      }
    },
    {
      "cell_type": "markdown",
      "source": [
        "You can use the following code as-is once you have finished cleaning your data."
      ],
      "metadata": {
        "id": "7oeEl2u6y0n6"
      }
    },
    {
      "cell_type": "code",
      "source": [
        "# Rename 'Text' column to 'all_cleaned'\n",
        "transcripts.columns = ['all_cleaned']\n",
        "# Remove commas and periods and store in a new column called 'no_punctuation'\n",
        "transcripts['no_punctuation'] = regex_replace([(r'[\\,\\.]', '')], transcripts.copy(), text_column_name='all_cleaned')['all_cleaned']\n",
        "# Lowercase everything and store in a new column called 'lower'\n",
        "transcripts['lower'] = transcripts['no_punctuation'].apply(lambda x: x.lower())\n",
        "# Remove spaces and store in a new column called 'no_spaces'\n",
        "transcripts['no_spaces'] = regex_replace([(r' ', '')], transcripts.copy(), text_column_name='lower')['lower']\n",
        "\n",
        "transcripts.head()"
      ],
      "metadata": {
        "colab": {
          "base_uri": "https://localhost:8080/",
          "height": 276
        },
        "id": "xkS8Iw9m3dDj",
        "outputId": "bd41ba15-2bad-4c16-bd68-faccb1329b1b"
      },
      "execution_count": 18,
      "outputs": [
        {
          "output_type": "display_data",
          "data": {
            "text/plain": [
              "<IPython.core.display.HTML object>"
            ],
            "text/html": [
              "\n",
              "  <style>\n",
              "    pre {\n",
              "        white-space: pre-wrap;\n",
              "    }\n",
              "  </style>\n",
              "  "
            ]
          },
          "metadata": {}
        },
        {
          "output_type": "stream",
          "name": "stdout",
          "text": [
            "Done.\n",
            "7146415 words in 3997 documents (rows).\n",
            "Done.\n",
            "3997 words in 3997 documents (rows).\n"
          ]
        },
        {
          "output_type": "execute_result",
          "data": {
            "text/plain": [
              "                                         all_cleaned  \\\n",
              "0  Thank you so much, Chris. And its truly a grea...   \n",
              "1  About 10 years ago, I took on the task to teac...   \n",
              "2   Hello voice mail, my old friend. Ive called f...   \n",
              "3  If youre here today, and Im very happy that yo...   \n",
              "4  Good morning. How are you. Good. Its been grea...   \n",
              "\n",
              "                                      no_punctuation  \\\n",
              "0  Thank you so much Chris And its truly a great ...   \n",
              "1  About 10 years ago I took on the task to teach...   \n",
              "2   Hello voice mail my old friend Ive called for...   \n",
              "3  If youre here today and Im very happy that you...   \n",
              "4  Good morning How are you Good Its been great h...   \n",
              "\n",
              "                                               lower  \\\n",
              "0  thank you so much chris and its truly a great ...   \n",
              "1  about 10 years ago i took on the task to teach...   \n",
              "2   hello voice mail my old friend ive called for...   \n",
              "3  if youre here today and im very happy that you...   \n",
              "4  good morning how are you good its been great h...   \n",
              "\n",
              "                                           no_spaces  \n",
              "0  thankyousomuchchrisanditstrulyagreathonortohav...  \n",
              "1  about10yearsagoitookonthetasktoteachglobaldeve...  \n",
              "2  hellovoicemailmyoldfriendivecalledfortechsuppo...  \n",
              "3  ifyoureheretodayandimveryhappythatyouareyouvea...  \n",
              "4  goodmorninghowareyougooditsbeengreathasntitive...  "
            ],
            "text/html": [
              "\n",
              "  <div id=\"df-59e4890c-5435-403d-9cf4-d560d05492d7\">\n",
              "    <div class=\"colab-df-container\">\n",
              "      <div>\n",
              "<style scoped>\n",
              "    .dataframe tbody tr th:only-of-type {\n",
              "        vertical-align: middle;\n",
              "    }\n",
              "\n",
              "    .dataframe tbody tr th {\n",
              "        vertical-align: top;\n",
              "    }\n",
              "\n",
              "    .dataframe thead th {\n",
              "        text-align: right;\n",
              "    }\n",
              "</style>\n",
              "<table border=\"1\" class=\"dataframe\">\n",
              "  <thead>\n",
              "    <tr style=\"text-align: right;\">\n",
              "      <th></th>\n",
              "      <th>all_cleaned</th>\n",
              "      <th>no_punctuation</th>\n",
              "      <th>lower</th>\n",
              "      <th>no_spaces</th>\n",
              "    </tr>\n",
              "  </thead>\n",
              "  <tbody>\n",
              "    <tr>\n",
              "      <th>0</th>\n",
              "      <td>Thank you so much, Chris. And its truly a grea...</td>\n",
              "      <td>Thank you so much Chris And its truly a great ...</td>\n",
              "      <td>thank you so much chris and its truly a great ...</td>\n",
              "      <td>thankyousomuchchrisanditstrulyagreathonortohav...</td>\n",
              "    </tr>\n",
              "    <tr>\n",
              "      <th>1</th>\n",
              "      <td>About 10 years ago, I took on the task to teac...</td>\n",
              "      <td>About 10 years ago I took on the task to teach...</td>\n",
              "      <td>about 10 years ago i took on the task to teach...</td>\n",
              "      <td>about10yearsagoitookonthetasktoteachglobaldeve...</td>\n",
              "    </tr>\n",
              "    <tr>\n",
              "      <th>2</th>\n",
              "      <td>Hello voice mail, my old friend. Ive called f...</td>\n",
              "      <td>Hello voice mail my old friend Ive called for...</td>\n",
              "      <td>hello voice mail my old friend ive called for...</td>\n",
              "      <td>hellovoicemailmyoldfriendivecalledfortechsuppo...</td>\n",
              "    </tr>\n",
              "    <tr>\n",
              "      <th>3</th>\n",
              "      <td>If youre here today, and Im very happy that yo...</td>\n",
              "      <td>If youre here today and Im very happy that you...</td>\n",
              "      <td>if youre here today and im very happy that you...</td>\n",
              "      <td>ifyoureheretodayandimveryhappythatyouareyouvea...</td>\n",
              "    </tr>\n",
              "    <tr>\n",
              "      <th>4</th>\n",
              "      <td>Good morning. How are you. Good. Its been grea...</td>\n",
              "      <td>Good morning How are you Good Its been great h...</td>\n",
              "      <td>good morning how are you good its been great h...</td>\n",
              "      <td>goodmorninghowareyougooditsbeengreathasntitive...</td>\n",
              "    </tr>\n",
              "  </tbody>\n",
              "</table>\n",
              "</div>\n",
              "      <button class=\"colab-df-convert\" onclick=\"convertToInteractive('df-59e4890c-5435-403d-9cf4-d560d05492d7')\"\n",
              "              title=\"Convert this dataframe to an interactive table.\"\n",
              "              style=\"display:none;\">\n",
              "        \n",
              "  <svg xmlns=\"http://www.w3.org/2000/svg\" height=\"24px\"viewBox=\"0 0 24 24\"\n",
              "       width=\"24px\">\n",
              "    <path d=\"M0 0h24v24H0V0z\" fill=\"none\"/>\n",
              "    <path d=\"M18.56 5.44l.94 2.06.94-2.06 2.06-.94-2.06-.94-.94-2.06-.94 2.06-2.06.94zm-11 1L8.5 8.5l.94-2.06 2.06-.94-2.06-.94L8.5 2.5l-.94 2.06-2.06.94zm10 10l.94 2.06.94-2.06 2.06-.94-2.06-.94-.94-2.06-.94 2.06-2.06.94z\"/><path d=\"M17.41 7.96l-1.37-1.37c-.4-.4-.92-.59-1.43-.59-.52 0-1.04.2-1.43.59L10.3 9.45l-7.72 7.72c-.78.78-.78 2.05 0 2.83L4 21.41c.39.39.9.59 1.41.59.51 0 1.02-.2 1.41-.59l7.78-7.78 2.81-2.81c.8-.78.8-2.07 0-2.86zM5.41 20L4 18.59l7.72-7.72 1.47 1.35L5.41 20z\"/>\n",
              "  </svg>\n",
              "      </button>\n",
              "      \n",
              "  <style>\n",
              "    .colab-df-container {\n",
              "      display:flex;\n",
              "      flex-wrap:wrap;\n",
              "      gap: 12px;\n",
              "    }\n",
              "\n",
              "    .colab-df-convert {\n",
              "      background-color: #E8F0FE;\n",
              "      border: none;\n",
              "      border-radius: 50%;\n",
              "      cursor: pointer;\n",
              "      display: none;\n",
              "      fill: #1967D2;\n",
              "      height: 32px;\n",
              "      padding: 0 0 0 0;\n",
              "      width: 32px;\n",
              "    }\n",
              "\n",
              "    .colab-df-convert:hover {\n",
              "      background-color: #E2EBFA;\n",
              "      box-shadow: 0px 1px 2px rgba(60, 64, 67, 0.3), 0px 1px 3px 1px rgba(60, 64, 67, 0.15);\n",
              "      fill: #174EA6;\n",
              "    }\n",
              "\n",
              "    [theme=dark] .colab-df-convert {\n",
              "      background-color: #3B4455;\n",
              "      fill: #D2E3FC;\n",
              "    }\n",
              "\n",
              "    [theme=dark] .colab-df-convert:hover {\n",
              "      background-color: #434B5C;\n",
              "      box-shadow: 0px 1px 3px 1px rgba(0, 0, 0, 0.15);\n",
              "      filter: drop-shadow(0px 1px 2px rgba(0, 0, 0, 0.3));\n",
              "      fill: #FFFFFF;\n",
              "    }\n",
              "  </style>\n",
              "\n",
              "      <script>\n",
              "        const buttonEl =\n",
              "          document.querySelector('#df-59e4890c-5435-403d-9cf4-d560d05492d7 button.colab-df-convert');\n",
              "        buttonEl.style.display =\n",
              "          google.colab.kernel.accessAllowed ? 'block' : 'none';\n",
              "\n",
              "        async function convertToInteractive(key) {\n",
              "          const element = document.querySelector('#df-59e4890c-5435-403d-9cf4-d560d05492d7');\n",
              "          const dataTable =\n",
              "            await google.colab.kernel.invokeFunction('convertToInteractive',\n",
              "                                                     [key], {});\n",
              "          if (!dataTable) return;\n",
              "\n",
              "          const docLinkHtml = 'Like what you see? Visit the ' +\n",
              "            '<a target=\"_blank\" href=https://colab.research.google.com/notebooks/data_table.ipynb>data table notebook</a>'\n",
              "            + ' to learn more about interactive tables.';\n",
              "          element.innerHTML = '';\n",
              "          dataTable['output_type'] = 'display_data';\n",
              "          await google.colab.output.renderOutput(dataTable, element);\n",
              "          const docLink = document.createElement('div');\n",
              "          docLink.innerHTML = docLinkHtml;\n",
              "          element.appendChild(docLink);\n",
              "        }\n",
              "      </script>\n",
              "    </div>\n",
              "  </div>\n",
              "  "
            ]
          },
          "metadata": {},
          "execution_count": 18
        }
      ]
    },
    {
      "cell_type": "markdown",
      "source": [
        "Save it, and we're done!"
      ],
      "metadata": {
        "id": "GuLXd0wNzMLD"
      }
    },
    {
      "cell_type": "code",
      "source": [
        "import os\n",
        "transcripts.to_csv(os.path.join(SAVE_FOLDER, 'TED_TRAIN_TEST.csv'))"
      ],
      "metadata": {
        "colab": {
          "base_uri": "https://localhost:8080/",
          "height": 17
        },
        "id": "rRo8E4QF8JkB",
        "outputId": "1e08905c-aa4f-40b4-ec42-37bc41120aae"
      },
      "execution_count": 19,
      "outputs": [
        {
          "output_type": "display_data",
          "data": {
            "text/plain": [
              "<IPython.core.display.HTML object>"
            ],
            "text/html": [
              "\n",
              "  <style>\n",
              "    pre {\n",
              "        white-space: pre-wrap;\n",
              "    }\n",
              "  </style>\n",
              "  "
            ]
          },
          "metadata": {}
        }
      ]
    }
  ]
}